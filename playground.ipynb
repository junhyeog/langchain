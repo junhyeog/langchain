{
 "cells": [
  {
   "cell_type": "code",
   "execution_count": null,
   "metadata": {},
   "outputs": [],
   "source": [
    "import fitz  # import package PyMuPDF\n",
    "\n",
    "\n",
    "# open input PDF\n",
    "doc = fitz.open(\"test.pdf\")\n",
    "\n",
    "\n",
    "# load desired page (0-based page number)\n",
    "for page in doc:\n",
    "\n",
    "    # search for \"whale\", results in a list of rectangles\n",
    "    rects = page.search_for(\"meta\")\n",
    "\n",
    "    # mark all occurrences in one go\n",
    "    page.add_highlight_annot(rects)\n",
    "\n",
    "\n",
    "# save the document with these changes\n",
    "doc.save(\"output.pdf\")"
   ]
  }
 ],
 "metadata": {
  "language_info": {
   "name": "python"
  }
 },
 "nbformat": 4,
 "nbformat_minor": 2
}
